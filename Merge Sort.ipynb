{
 "cells": [
  {
   "cell_type": "code",
   "execution_count": 12,
   "id": "95440eda",
   "metadata": {},
   "outputs": [
    {
     "name": "stdout",
     "output_type": "stream",
     "text": [
      "Given value \n",
      "2 3 4 2 1 4 55 44 \n",
      "sorted value : \n",
      "1 2 2 3 4 4 44 55 "
     ]
    }
   ],
   "source": [
    "def mergeFunction(array,large,measure,rule):\n",
    "    n1= measure-large+1\n",
    "    n2=rule-measure\n",
    "    \n",
    "    \n",
    "    Left=[0]*(n1)\n",
    "    Right=[0]*(n2)\n",
    "    \n",
    "    \n",
    "    for i in range(0,n1):\n",
    "        Left[i]=array[large+i]\n",
    "    for j in range(0,n2):\n",
    "        Right[j]= array[measure+1+j]\n",
    "        \n",
    "    i=0\n",
    "    j=0\n",
    "    k=large\n",
    "    \n",
    "    while i< n1 and j<n2:\n",
    "        if Left[i]<=Right[j]:\n",
    "            array[k]=Left[i]\n",
    "            i+=1\n",
    "        else:\n",
    "            array[k]=Right[j]\n",
    "            j+=1\n",
    "        k+=1\n",
    "    while i<n1:\n",
    "        array[k]=Left[i]\n",
    "        i+=1\n",
    "        k+=1\n",
    "    while j<n2:\n",
    "        array[k]=Right[j]\n",
    "        j+=1\n",
    "        k+=1\n",
    "    \n",
    "def mergeSorting(array, large, rule):\n",
    "    if large<rule:\n",
    "        measure = large+(rule-large)//2\n",
    "\n",
    "\n",
    "\n",
    "        mergeSorting(array,large, measure )\n",
    "        mergeSorting(array,measure+1,rule)\n",
    "        mergeFunction(array,large,measure,rule)\n",
    "\n",
    "array =[2,3,4,2,1,4,55,44]\n",
    "n = len(array)\n",
    "print(\"Given value \")\n",
    "for i in range(n):\n",
    "    print(\"%d\" % array[i],end=\" \")\n",
    "\n",
    "mergeSorting(array, 0, n-1)\n",
    "print(\"\\nsorted value : \")\n",
    "for i in range(n):\n",
    "    print(\"%d\" % array[i],end=\" \")\n",
    "\n"
   ]
  }
 ],
 "metadata": {
  "kernelspec": {
   "display_name": "Python 3 (ipykernel)",
   "language": "python",
   "name": "python3"
  },
  "language_info": {
   "codemirror_mode": {
    "name": "ipython",
    "version": 3
   },
   "file_extension": ".py",
   "mimetype": "text/x-python",
   "name": "python",
   "nbconvert_exporter": "python",
   "pygments_lexer": "ipython3",
   "version": "3.10.4"
  }
 },
 "nbformat": 4,
 "nbformat_minor": 5
}
