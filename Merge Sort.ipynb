{
 "cells": [
  {
   "cell_type": "code",
   "execution_count": null,
   "id": "95440eda",
   "metadata": {},
   "outputs": [],
   "source": [
    "def mergeFunction(arr,l,m,r):\n",
    "    n1= m-l+1\n",
    "    n2=r-m\n",
    "    \n",
    "    \n",
    "    L=[0]*(n1)\n",
    "    R=[0]*(n2)\n",
    "    \n",
    "    \n",
    "    for i in range(0,n1):\n",
    "        L[i]=arr[l+i]\n",
    "    for j in range(0,n2):\n",
    "        R[j]= arr[m+1+j]\n",
    "        \n",
    "    i=0\n",
    "    j=0\n",
    "    k=l\n",
    "    \n",
    "    while i< n1 and j<n2:\n",
    "        if L[i]<=R[j]:\n",
    "            arr[k]=L[i]\n",
    "            i+=1\n",
    "        else:\n",
    "            arr[k]=R[j]\n",
    "            j+=1\n",
    "        k+1=1\n"
   ]
  }
 ],
 "metadata": {
  "kernelspec": {
   "display_name": "Python 3 (ipykernel)",
   "language": "python",
   "name": "python3"
  },
  "language_info": {
   "codemirror_mode": {
    "name": "ipython",
    "version": 3
   },
   "file_extension": ".py",
   "mimetype": "text/x-python",
   "name": "python",
   "nbconvert_exporter": "python",
   "pygments_lexer": "ipython3",
   "version": "3.9.7"
  }
 },
 "nbformat": 4,
 "nbformat_minor": 5
}
